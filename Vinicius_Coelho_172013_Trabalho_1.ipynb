{
  "cells": [
    {
      "cell_type": "markdown",
      "source": [
        "# **Trabalho Final**\n",
        "### Algoritmos e Programação com Linguagem Python\n",
        "---\n",
        "\n",
        "**Orientações Gerais:**\n",
        "\n",
        "* Esta é o trabalho final prático onde serão trabalhados conceitos \n",
        "apresentados e exercitados em sala de aula.\n",
        "\n",
        "* Aspéctos como clareza e organização do código, comentários, raciocínio lógico, coerência no nome de variáveis, utilização das estruturas mais adequadas para a solução dos problemas e o funcionamento adequado serão analisados e irão compor o valor da nota final.\n",
        "\n",
        "* Procure entender exatamente o que se pede antes de iniciar a codificação. Quando se sabe o que é necessário fazer, a codificação fica mais fácil, mais eficiente e mais divertida ;-).\n",
        "\n",
        "* Faça o upload do notebook completo nomeado da seguinte forma: *nome_sobrenome_RA.ipynb*. \n",
        "\n",
        "* No caso de grupos, informar ao professor os membros de cada grupo e cada um deverá importar o arquivo no Canvas individualmente.\n",
        "\n",
        "* Arquivos com nomes incorretos serão desconsiderados!\n",
        "\n",
        "* Não deixem dúvidas para trás! Acessem os grupos combinados ou entrem em contato com o professor. \n",
        "\n",
        "✌ Sucesso o/\n",
        "\n",
        "\n",
        "\n",
        "\n"
      ],
      "metadata": {
        "id": "LvTRZZisW_3u"
      }
    },
    {
      "cell_type": "markdown",
      "metadata": {
        "id": "xEBhSxBGTgS0"
      },
      "source": [
        "# RMS Titanic\n",
        "\n",
        "O RMS Titanic foi um navio de passageiros britânico operado pela White Star Line e construído pelos estaleiros da Harland and Wolff em Belfast. Foi a segunda embarcação da Classe Olympic de transatlânticos depois do RMS Olympic e seguido pelo HMHS Britannic. Projetado pelos engenheiros navais Alexander Carlisle e Thomas Andrews, sua construção começou em março de 1909 e ele foi lançado ao mar em maio de 1911. O Titanic foi pensado para ser o navio mais luxuoso e mais seguro de sua época, gerando lendas que era supostamente \"inafundável\".\n",
        "\n",
        "A embarcação partiu em sua viagem inaugural de Southampton para Nova Iorque em 10 de abril de 1912, no caminho passando em Cherbourg-Octeville na França e por Queenstown na Irlanda. Ele colidiu com um iceberg às 23h40min do dia 14 de abril e afundou na madrugada do dia seguinte matando mais de 1500 pessoas, sendo um dos maiores desastres marítimos em tempos de paz de toda a história. Seu naufrágio destacou vários pontos fracos de seu projeto, deficiências nos procedimentos de evacuação de emergência e falhas nas regulamentações marítimas da época. Comissões de inquérito foram instauradas nos Estados Unidos e no Reino Unido, levando a mudanças nas leis internacionais de navegação que permanecem em vigor mais de um século depois.\n",
        "\n",
        "Os destroços do Titanic foram procurados por décadas até serem encontrados em 1985 por uma equipe liderada por Robert Ballard. Ele se encontra a 3843 m de profundidade e a 650 km ao sudeste de Terra Nova no Canadá. Sua história e naufrágio permaneceram no imaginário popular durante décadas, levando a produção de vários livros e filmes a seu respeito, mais notavelmente o filme Titanic de 1997. Até hoje o Titanic permanece como um dos navios mais famosos da história, com seus destroços atraindo várias expedições de exploração ao longo dos anos.\n",
        "\n",
        "*Fonte:* [WikiPedia](https://pt.wikipedia.org/wiki/RMS_Titanic)\n",
        "\n",
        "--------"
      ]
    },
    {
      "cell_type": "markdown",
      "metadata": {
        "id": "L1MhpnxMTgS2"
      },
      "source": [
        "A equipe da [Udacity](https://udacity.com) disponibilizou informações sobre uma parte dos passageiros à bordo do RMS Titanic no dia daquela tragédia. Esse _dataset_ que contém informações reais vem sendo utilizado em diversos estudos de caso, além de servir de base para aprendizado de Ciência de Dados, Estatística e Machine Learning.\n",
        "\n",
        "O arquivo **titanic_data.csv** contém informações reais sobre os passageiros organizadas da seguinte forma:\n",
        "\n",
        "- Survived (Sobreviveu): 0 = Não, 1 = Sim\n",
        "- Pclass (Classe): Classe de ingresso 1 = 1º, 2 = 2º, 3 = 3º\n",
        "- Sex (Sexo): Sexo do passageiro\n",
        "- Age (Idade): Idade em anos\n",
        "- Sibsp: Quantidade de irmãos / cônjuges a bordo do Titanic\n",
        "- Parch: Quantidade de pais / crianças a bordo do Titanic\n",
        "- Ticket (Bilhete): Número do bilhete de embarque\n",
        "- Fare (Tarifa): Tarifa paga pelo Passageiro\n",
        "- Cabin (Cabine): Número de cabine\n",
        "- Embarked (Embarque): Porto de Embarque (C = Cherbourg, Q = Queenstown, S = Southampton)\n",
        "\n",
        "O objetivo deste estudo é obter algumas informações estatísticas sobre a tragédia e realizar alguns _insights_ a respeito dos tripulantes e das circunstâncias do acidente.\n",
        "\n",
        "Efetue a carga do arquivo através da biblioteca _Pandas_ e a partir do _DataFrame_ gerado, efetue as operações necessárias para responder as questões.\n"
      ]
    },
    {
      "cell_type": "markdown",
      "metadata": {
        "id": "O2wsN6iSTgS2"
      },
      "source": [
        "## Importando o DataSet"
      ]
    },
    {
      "cell_type": "markdown",
      "metadata": {
        "id": "B4UlEZmATgS3"
      },
      "source": [
        "1 - Efetuar a leitura do dataset através do Pandas, gerando um DataFrame de nome tit, levando-se em consideração que o arquivo encontra-se na mesma pasta do notebook."
      ]
    },
    {
      "cell_type": "code",
      "source": [
        "import numpy as np\n",
        "import pandas as pd\n",
        "import matplotlib.pyplot as plt"
      ],
      "metadata": {
        "id": "cEQZ4CdxFd5_"
      },
      "execution_count": null,
      "outputs": []
    },
    {
      "cell_type": "code",
      "source": [
        "tit = pd.read_csv('/content/titanic_data.csv')"
      ],
      "metadata": {
        "id": "WI7aXfnzTjHQ"
      },
      "execution_count": null,
      "outputs": []
    },
    {
      "cell_type": "markdown",
      "metadata": {
        "id": "2iQYh_DATgS4"
      },
      "source": [
        "## Conhecendo o DataSet"
      ]
    },
    {
      "cell_type": "markdown",
      "metadata": {
        "id": "rypSFW-qTgS4"
      },
      "source": [
        "2 - Quantas linhas e colunas tem o dataset? Quais os tipos das colunas?"
      ]
    },
    {
      "cell_type": "code",
      "source": [
        "tit.info()"
      ],
      "metadata": {
        "id": "IyrMKzaQTkkx"
      },
      "execution_count": null,
      "outputs": []
    },
    {
      "cell_type": "markdown",
      "metadata": {
        "id": "L40fXuSRTgS5"
      },
      "source": [
        "3 - Mostre os dados dos dez primeiros e 8 últimos registros do dataset."
      ]
    },
    {
      "cell_type": "code",
      "source": [
        "tit.head(10)"
      ],
      "metadata": {
        "id": "QEFq1_V8TmAZ"
      },
      "execution_count": null,
      "outputs": []
    },
    {
      "cell_type": "code",
      "source": [
        "tit.tail(8)"
      ],
      "metadata": {
        "id": "smNnXRePGDQV"
      },
      "execution_count": null,
      "outputs": []
    },
    {
      "cell_type": "markdown",
      "metadata": {
        "id": "cZyn3_NOTgS6"
      },
      "source": [
        "4 - Cálculos envolvendo colunas numéricas com dados faltantes podem sofrer impacto. É possível afirmar se há dados faltantes no dataset? Caso positivo, quais e quantos seriam esses dados? Preencha os dados faltantes de forma que não influenciem em operações futuras."
      ]
    },
    {
      "cell_type": "code",
      "source": [
        "# Podemos verificar se há dados nulos de duas formas, através da função isnull() ou através do info\n",
        "tit.info()"
      ],
      "metadata": {
        "id": "eIrx9uUIQnNF"
      },
      "execution_count": null,
      "outputs": []
    },
    {
      "cell_type": "code",
      "source": [
        "tit.isnull()"
      ],
      "metadata": {
        "id": "Mj5d7y5ZTnbi"
      },
      "execution_count": null,
      "outputs": []
    },
    {
      "cell_type": "code",
      "source": [
        "tit['Age'] = tit['Age'].fillna(int(tit['Age'].mean()))"
      ],
      "metadata": {
        "id": "Ts3qPmMfRY89"
      },
      "execution_count": null,
      "outputs": []
    },
    {
      "cell_type": "code",
      "source": [
        "tit['Cabin'] = tit['Cabin'].fillna(0)"
      ],
      "metadata": {
        "id": "4I76uEjBSpSB"
      },
      "execution_count": null,
      "outputs": []
    },
    {
      "cell_type": "code",
      "source": [
        "tit.head()"
      ],
      "metadata": {
        "id": "J4HP06u4SzLC"
      },
      "execution_count": null,
      "outputs": []
    },
    {
      "cell_type": "markdown",
      "metadata": {
        "id": "NkmmE-G1TgS6"
      },
      "source": [
        "## Adequando o DataSet"
      ]
    },
    {
      "cell_type": "markdown",
      "metadata": {
        "id": "sHIXSM-3TgS6"
      },
      "source": [
        "5 - Uma vez que algumas colunas não serão utilizadas, eventualmente é melhor excluí-las para que não interfiram na análise. Assim, exclua do dataset as colunas Sibsp, Parch e Ticket."
      ]
    },
    {
      "cell_type": "code",
      "source": [
        "tit = tit.drop(columns=['SibSp', 'Parch', 'Ticket'])\n",
        "tit.head()"
      ],
      "metadata": {
        "id": "TovKKLO8TouW"
      },
      "execution_count": null,
      "outputs": []
    },
    {
      "cell_type": "markdown",
      "metadata": {
        "id": "Ywm6ZYE_TgS6"
      },
      "source": [
        "6 - Renomear as colunas restantes para a lingua portuguesa, utilizando os seguintes nomes de colunas: IdPassageiro, Sobreviveu, Classe, Nome, Sexo, Idade, Tarifa, Cabine e Embarque."
      ]
    },
    {
      "cell_type": "code",
      "source": [
        "tit.head()"
      ],
      "metadata": {
        "id": "gS8r6GYXUTna"
      },
      "execution_count": null,
      "outputs": []
    },
    {
      "cell_type": "code",
      "source": [
        "colunas = {'PassengerId': 'IdPassageiro', 'Survived': 'Sobreviveu', 'Pclass': 'Classe', 'Name': 'Nome', \n",
        "           'Sex': 'Sexo', 'Age': 'Idade', 'Fare': 'Tarifa', 'Cabin': 'Cabine', 'Embarked': 'Embarque'}\n",
        "tit = tit.rename(columns=colunas)\n",
        "tit.head()"
      ],
      "metadata": {
        "id": "WwFGynIHTp0r"
      },
      "execution_count": null,
      "outputs": []
    },
    {
      "cell_type": "markdown",
      "metadata": {
        "id": "om9yLJRSTgS7"
      },
      "source": [
        "7 - Alterar o conteudo da coluna Sobreviveu para:\n",
        "- 0 => Não\n",
        "- 1 => Sim"
      ]
    },
    {
      "cell_type": "code",
      "source": [
        "tit['Sobreviveu'] = tit['Sobreviveu'].replace({0: 'Não', 1: 'Sim'})\n",
        "tit.head()"
      ],
      "metadata": {
        "id": "ffDQ85AJTrxZ"
      },
      "execution_count": null,
      "outputs": []
    },
    {
      "cell_type": "markdown",
      "metadata": {
        "id": "CmoyJaKCTgS7"
      },
      "source": [
        "8 - Alterar o conteudo da coluna Sexo para:\n",
        "- female => Mulher\n",
        "- male   => Homem"
      ]
    },
    {
      "cell_type": "code",
      "source": [
        "tit['Sexo'] = tit['Sexo'].replace({'female': 'Mulher', 'male': 'Homem'})\n",
        "tit.head()"
      ],
      "metadata": {
        "id": "0HCSucRsTtaF"
      },
      "execution_count": null,
      "outputs": []
    },
    {
      "cell_type": "markdown",
      "metadata": {
        "id": "xns3YqQcTgS7"
      },
      "source": [
        "## Alguns números"
      ]
    },
    {
      "cell_type": "markdown",
      "metadata": {
        "id": "4pDJXfz3TgS7"
      },
      "source": [
        "9 - Quantas mulheres e quantos homems estavam à bordo, de acordo com o dataset?"
      ]
    },
    {
      "cell_type": "markdown",
      "source": [
        "https://www.shanelynn.ie/bar-plots-in-python-using-pandas-dataframes/"
      ],
      "metadata": {
        "id": "KWxkELNYVpRm"
      }
    },
    {
      "cell_type": "code",
      "source": [
        "tit['Sexo'].value_counts()"
      ],
      "metadata": {
        "id": "vCAQLJAETvPA"
      },
      "execution_count": null,
      "outputs": []
    },
    {
      "cell_type": "code",
      "source": [
        "homens = tit.loc[(tit['Sexo'])=='Homem']\n",
        "mulheres = tit.loc[(tit['Sexo'])=='Mulher']"
      ],
      "metadata": {
        "id": "PFGxX1RI0qLa"
      },
      "execution_count": 71,
      "outputs": []
    },
    {
      "cell_type": "code",
      "source": [
        "fig, ax = plt.subplots()\n",
        "\n",
        "generos = tit['Sexo'].unique()\n",
        "counts = [len(homens),len(mulheres)]\n",
        "bar_colors = ['tab:red', 'tab:blue']\n",
        "\n",
        "ax.bar(generos, counts, color=bar_colors)\n",
        "\n",
        "ax.set_ylabel('Nº de Tripulantes')\n",
        "ax.set_title('Gêneros tripulação')\n",
        "\n",
        "plt.show()"
      ],
      "metadata": {
        "id": "v_oTY_qtz-k_"
      },
      "execution_count": null,
      "outputs": []
    },
    {
      "cell_type": "markdown",
      "metadata": {
        "id": "o6lbuat3TgS7"
      },
      "source": [
        "10 - Quantos passageiros sobreviveram e quantos não sobreviveram?"
      ]
    },
    {
      "cell_type": "code",
      "source": [
        "dados = tit['Sobreviveu'].value_counts()\n",
        "dados"
      ],
      "metadata": {
        "id": "3QHMnzbCTweD",
        "colab": {
          "base_uri": "https://localhost:8080/"
        },
        "outputId": "74bbd150-229b-4286-dd5b-7fcb57c0b34b"
      },
      "execution_count": 128,
      "outputs": [
        {
          "output_type": "execute_result",
          "data": {
            "text/plain": [
              "Não    549\n",
              "Sim    342\n",
              "Name: Sobreviveu, dtype: int64"
            ]
          },
          "metadata": {},
          "execution_count": 128
        }
      ]
    },
    {
      "cell_type": "code",
      "source": [
        "plotdata = dados\n",
        "plotdata.plot(kind='bar')\n",
        "plt.title(\"Sobreviventes no titanic\")\n",
        "plt.ylabel(\"Quantidade de pessoas\")"
      ],
      "metadata": {
        "id": "c8_IH3YMn9qO"
      },
      "execution_count": null,
      "outputs": []
    },
    {
      "cell_type": "markdown",
      "metadata": {
        "id": "TJr51qAsTgS8"
      },
      "source": [
        "11 - Quantas mulheres não sobreviveram?"
      ]
    },
    {
      "cell_type": "code",
      "source": [
        "mulheres.groupby(['Sobreviveu'])['Sexo'].count()"
      ],
      "metadata": {
        "id": "3ODFPSasTx66"
      },
      "execution_count": null,
      "outputs": []
    },
    {
      "cell_type": "markdown",
      "metadata": {
        "id": "OLLm023rTgS8"
      },
      "source": [
        "12 - Proporcionalmente, sobreviveram mais homens ou mais mulheres? Cite as proporções."
      ]
    },
    {
      "cell_type": "code",
      "source": [
        "mulheres_sobreviveram = len(mulheres.loc[(mulheres['Sobreviveu']=='Sim')])\n",
        "mulheres_sobreviveram"
      ],
      "metadata": {
        "id": "DaFvn87iTzDj"
      },
      "execution_count": null,
      "outputs": []
    },
    {
      "cell_type": "code",
      "source": [
        "homens_sobreviveram = len(homens.loc[(homens['Sobreviveu']=='Sim')])\n",
        "homens_sobreviveram"
      ],
      "metadata": {
        "id": "h42C5uDAZzOt"
      },
      "execution_count": null,
      "outputs": []
    },
    {
      "cell_type": "code",
      "source": [
        "total = len(tit['Sobreviveu'])"
      ],
      "metadata": {
        "id": "V_-yRqIQZ0Yx"
      },
      "execution_count": 78,
      "outputs": []
    },
    {
      "cell_type": "code",
      "source": [
        "porcentagem_homens_sobreviveram = round((homens_sobreviveram/total)*100,2)\n",
        "porcentagem_mulheres_sobreviveram = round((mulheres_sobreviveram/total)*100,2)"
      ],
      "metadata": {
        "id": "TFUid9-CaAZp"
      },
      "execution_count": null,
      "outputs": []
    },
    {
      "cell_type": "code",
      "source": [
        "porcentagem_homens_sobreviveram"
      ],
      "metadata": {
        "id": "xZuJNpiVacQU"
      },
      "execution_count": null,
      "outputs": []
    },
    {
      "cell_type": "code",
      "source": [
        "porcentagem_mulheres_sobreviveram"
      ],
      "metadata": {
        "id": "Vvm3kuyLafkc"
      },
      "execution_count": null,
      "outputs": []
    },
    {
      "cell_type": "markdown",
      "metadata": {
        "id": "F5eLSZ_kTgS8"
      },
      "source": [
        "13 - Levando-se em consideração a idade dos passageiros, qual a idade e quantidade de pessoas com o maior número de mortos?"
      ]
    },
    {
      "cell_type": "code",
      "source": [
        "pessoas_que_morreram = tit.loc[(tit['Sobreviveu']=='Não')]\n",
        "pessoas_que_morreram['Idade'].value_counts().head(1)"
      ],
      "metadata": {
        "id": "cPsUUJZIT0L8"
      },
      "execution_count": null,
      "outputs": []
    },
    {
      "cell_type": "markdown",
      "metadata": {
        "id": "Q6IAIybZTgS8"
      },
      "source": [
        "14 - Qual a média de idade dos homens sobreviventes?"
      ]
    },
    {
      "cell_type": "code",
      "source": [
        "homens.loc[(homens['Sobreviveu']=='Sim')]['Idade'].mean()"
      ],
      "metadata": {
        "id": "eLd5KhGoT2SE"
      },
      "execution_count": null,
      "outputs": []
    },
    {
      "cell_type": "markdown",
      "metadata": {
        "id": "xj6hJjULTgS8"
      },
      "source": [
        "15 - Levando-se em consideração passageiros prioritários (mulheres e crianças de até 15 anos independente do sexo) qual a proporção de sobreviventes por sexo?"
      ]
    },
    {
      "cell_type": "code",
      "source": [
        "criancas = tit.loc[(tit['Idade']<=15)]\n",
        "\n",
        "mulheres_sobreviventes = mulheres.loc[(mulheres['Sobreviveu']=='Sim')]\n",
        "criancas_sobreviventes = criancas.loc[(criancas['Sobreviveu']=='Sim')]\n",
        "\n",
        "prioritarios = len(criancas_sobreviventes)+len(mulheres_sobreviventes)"
      ],
      "metadata": {
        "id": "nZXHDVRMplxC"
      },
      "execution_count": 53,
      "outputs": []
    },
    {
      "cell_type": "code",
      "source": [
        "prioritarios/len(homens)"
      ],
      "metadata": {
        "id": "kkKjfqQaxtp2"
      },
      "execution_count": null,
      "outputs": []
    },
    {
      "cell_type": "code",
      "source": [
        "prioritarios/len(mulheres)"
      ],
      "metadata": {
        "id": "XtssbFwaxvTu"
      },
      "execution_count": null,
      "outputs": []
    },
    {
      "cell_type": "markdown",
      "metadata": {
        "id": "UB_bRGwGTgS8"
      },
      "source": [
        "16 - Qual a quantidade de passageiros por classe?"
      ]
    },
    {
      "cell_type": "code",
      "source": [
        "classe = tit['Classe'].value_counts()\n",
        "classe"
      ],
      "metadata": {
        "id": "U7ProdJ1T40D"
      },
      "execution_count": null,
      "outputs": []
    },
    {
      "cell_type": "code",
      "source": [
        "plotdata = classe\n",
        "plotdata.plot(kind='bar')\n",
        "plt.title(\"Passageiros por classe\")\n",
        "plt.ylabel(\"Quantidade de passageiros\")"
      ],
      "metadata": {
        "id": "k4DxLTmapIZN"
      },
      "execution_count": null,
      "outputs": []
    },
    {
      "cell_type": "markdown",
      "metadata": {
        "id": "2D4pHN2DTgS8"
      },
      "source": [
        "17 - Qual o percentual de sobreviventes por classe?"
      ]
    },
    {
      "cell_type": "code",
      "source": [
        "sobreviventes = tit.loc[(tit['Sobreviveu']=='Sim')]\n",
        "\n",
        "classe_sobrevive = sobreviventes['Classe'].value_counts()\n",
        "\n",
        "for i in range(3):\n",
        "  print(f\"Percentual {i+1}ª Classe = {round((classe_sobrevive[i+1]/classe[i+1])*100,2)}%\")"
      ],
      "metadata": {
        "id": "1FdQfnmCT6We"
      },
      "execution_count": null,
      "outputs": []
    },
    {
      "cell_type": "markdown",
      "metadata": {
        "id": "g_WXfCJ6TgS8"
      },
      "source": [
        "18 - Crie um dataframe que demonstre a quantidade de sobreviventes e não sobreviventes, agrupados por sexo e classe."
      ]
    },
    {
      "cell_type": "code",
      "source": [
        "df= pd.DataFrame(tit['Classe'])\n",
        "df['Sexo'] = pd.DataFrame(tit['Sexo'])\n",
        "df['Sobreviventes']=pd.DataFrame(tit['Sobreviveu'])\n",
        "\n",
        "df.groupby(['Sexo','Classe'])['Sobreviventes'].value_counts()"
      ],
      "metadata": {
        "id": "qJ6RiYRRT7So"
      },
      "execution_count": null,
      "outputs": []
    },
    {
      "cell_type": "markdown",
      "metadata": {
        "id": "MI1Q_xXKTgS9"
      },
      "source": [
        "19 - Dos homens com idade entre 24 e 30 anos quantos da classe 3 sobreviveram? Quantos da classe 2 não sobreviveram?"
      ]
    },
    {
      "cell_type": "code",
      "source": [
        "faixa_etaria = homens.loc[((homens['Idade']>=24) & (homens['Idade']<=30))]"
      ],
      "metadata": {
        "id": "KhmuwtA_T8ZN"
      },
      "execution_count": 81,
      "outputs": []
    },
    {
      "cell_type": "code",
      "source": [
        "homens_terc_classe = faixa_etaria.loc[(faixa_etaria['Classe']==3)]['Sobreviveu'].value_counts()\n",
        "homens_terc_classe"
      ],
      "metadata": {
        "id": "eilxC_RyyAqA"
      },
      "execution_count": null,
      "outputs": []
    },
    {
      "cell_type": "code",
      "source": [
        "plotdata = homens_terc_classe\n",
        "plotdata.plot(kind='bar')\n",
        "plt.title(\"Homens entre 24 e 30 anos da 3º Classe\")\n",
        "plt.ylabel(\"Quantidade de passageiros\")"
      ],
      "metadata": {
        "id": "_ez3D21u1nHB"
      },
      "execution_count": null,
      "outputs": []
    },
    {
      "cell_type": "code",
      "source": [
        "homens_seg_classe = faixa_etaria.loc[(faixa_etaria['Classe']==2)]['Sobreviveu'].value_counts()\n",
        "homens_seg_classe"
      ],
      "metadata": {
        "id": "SCbYjDg_yFZ4"
      },
      "execution_count": null,
      "outputs": []
    },
    {
      "cell_type": "code",
      "source": [
        "plotdata = homens_seg_classe\n",
        "plotdata.plot(kind='bar')\n",
        "plt.title(\"Homens entre 24 e 30 anos da 2º Classe\")\n",
        "plt.ylabel(\"Quantidade de passageiros\")"
      ],
      "metadata": {
        "id": "Qs6VqvTK1tXO"
      },
      "execution_count": null,
      "outputs": []
    },
    {
      "cell_type": "markdown",
      "metadata": {
        "id": "OfWqSae2TgS9"
      },
      "source": [
        "20 - Calcule a probabilidade condicional de uma pessoa sobreviver, dado seu sexo e a classe em que estava viajando:\n",
        "- P(S= true | G=female,C=1)\n",
        "- P(S= true | G=female,C=2)\n",
        "- P(S= true | G=female,C=3)\n",
        "- P(S= true | G=male,C=1)\n",
        "- P(S= true | G=male,C=2)\n",
        "- P(S= true | G=male,C=3)"
      ]
    },
    {
      "cell_type": "code",
      "source": [
        "qtd_de_sobreviventes = len(sobreviventes)\n",
        "total_passageiros = len(mulheres) + len(homens)\n",
        "\n",
        "mulheres_por_classe = mulheres.groupby(['Classe'])['Classe'].count()\n",
        "mulheres_pri_classe = mulheres_por_classe[1]\n",
        "mulheres_seg_classe = mulheres_por_classe[2]\n",
        "mulheres_ter_classe = mulheres_por_classe[3]\n",
        "\n",
        "homens_por_classe = homens.groupby(['Classe'])['Classe'].count()\n",
        "homens_pri_classe = homens_por_classe[1]\n",
        "homens_seg_classe = homens_por_classe[2]\n",
        "homens_ter_classe = homens_por_classe[3]"
      ],
      "metadata": {
        "id": "oNT0peDdT92N"
      },
      "execution_count": 113,
      "outputs": []
    },
    {
      "cell_type": "code",
      "source": [
        "probabilidade_sobreviver = qtd_de_sobreviventes/(total_passageiros)"
      ],
      "metadata": {
        "id": "xiHtIQkUCLMi"
      },
      "execution_count": 114,
      "outputs": []
    },
    {
      "cell_type": "code",
      "source": [
        "#P(S= true | G=female,C=1)\n",
        "P1 = probabilidade_sobreviver*(mulheres_pri_classe/len(mulheres))\n",
        "P1"
      ],
      "metadata": {
        "id": "qej6clun_1Ve"
      },
      "execution_count": null,
      "outputs": []
    },
    {
      "cell_type": "code",
      "source": [
        "#P(S= true | G=female,C=2)\n",
        "P2 = probabilidade_sobreviver*(mulheres_seg_classe/len(mulheres))\n",
        "P2"
      ],
      "metadata": {
        "id": "o3Fmmg-jAp8x"
      },
      "execution_count": null,
      "outputs": []
    },
    {
      "cell_type": "code",
      "source": [
        "#P(S= true | G=female,C=3)\n",
        "P3 = probabilidade_sobreviver*(mulheres_ter_classe/len(mulheres))\n",
        "P3"
      ],
      "metadata": {
        "id": "c4Zca7gzEAZX"
      },
      "execution_count": null,
      "outputs": []
    },
    {
      "cell_type": "code",
      "source": [
        "#P(S= true | G=male,C=1)\n",
        "P4 = probabilidade_sobreviver*(homens_pri_classe/len(homens))\n",
        "P4"
      ],
      "metadata": {
        "id": "IGH3FwUuETTO"
      },
      "execution_count": null,
      "outputs": []
    },
    {
      "cell_type": "code",
      "source": [
        "#P(S= true | G=male,C=2)\n",
        "P5 = probabilidade_sobreviver*(homens_seg_classe/len(homens))\n",
        "P5"
      ],
      "metadata": {
        "id": "JMNBv7WkEn_f"
      },
      "execution_count": null,
      "outputs": []
    },
    {
      "cell_type": "code",
      "source": [
        "#P(S= true | G=male,C=3)\n",
        "P6 = probabilidade_sobreviver*(homens_ter_classe/len(homens))\n",
        "P6"
      ],
      "metadata": {
        "id": "fOnobs8_Ew3m"
      },
      "execution_count": null,
      "outputs": []
    }
  ],
  "metadata": {
    "kernelspec": {
      "display_name": "Python 3",
      "language": "python",
      "name": "python3"
    },
    "language_info": {
      "codemirror_mode": {
        "name": "ipython",
        "version": 3
      },
      "file_extension": ".py",
      "mimetype": "text/x-python",
      "name": "python",
      "nbconvert_exporter": "python",
      "pygments_lexer": "ipython3",
      "version": "3.7.3"
    },
    "colab": {
      "provenance": [],
      "collapsed_sections": []
    }
  },
  "nbformat": 4,
  "nbformat_minor": 0
}